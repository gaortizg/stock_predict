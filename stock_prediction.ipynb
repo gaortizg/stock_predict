{
 "cells": [
  {
   "cell_type": "markdown",
   "id": "9ea56c42-dfaf-4eab-887a-819c27e855a0",
   "metadata": {},
   "source": [
    "## Download data"
   ]
  },
  {
   "cell_type": "code",
   "execution_count": 12,
   "id": "94cf7d79-9dd2-465a-8f4b-02d46c7881ef",
   "metadata": {},
   "outputs": [],
   "source": [
    "import yfinance as yf\n",
    "\n",
    "# Create a ticker object\n",
    "msft = yf.Ticker(\"MSFT\")\n",
    "\n",
    "# Download full price history of stock\n",
    "msft_hist = msft.history(period=\"max\")"
   ]
  },
  {
   "cell_type": "code",
   "execution_count": 13,
   "id": "41dbe268-3996-403c-8ae0-c2ec1b255b91",
   "metadata": {},
   "outputs": [
    {
     "data": {
      "text/html": [
       "<div>\n",
       "<style scoped>\n",
       "    .dataframe tbody tr th:only-of-type {\n",
       "        vertical-align: middle;\n",
       "    }\n",
       "\n",
       "    .dataframe tbody tr th {\n",
       "        vertical-align: top;\n",
       "    }\n",
       "\n",
       "    .dataframe thead th {\n",
       "        text-align: right;\n",
       "    }\n",
       "</style>\n",
       "<table border=\"1\" class=\"dataframe\">\n",
       "  <thead>\n",
       "    <tr style=\"text-align: right;\">\n",
       "      <th></th>\n",
       "      <th>Open</th>\n",
       "      <th>High</th>\n",
       "      <th>Low</th>\n",
       "      <th>Close</th>\n",
       "      <th>Volume</th>\n",
       "      <th>Dividends</th>\n",
       "      <th>Stock Splits</th>\n",
       "    </tr>\n",
       "    <tr>\n",
       "      <th>Date</th>\n",
       "      <th></th>\n",
       "      <th></th>\n",
       "      <th></th>\n",
       "      <th></th>\n",
       "      <th></th>\n",
       "      <th></th>\n",
       "      <th></th>\n",
       "    </tr>\n",
       "  </thead>\n",
       "  <tbody>\n",
       "    <tr>\n",
       "      <th>1986-03-13 00:00:00-05:00</th>\n",
       "      <td>0.055380</td>\n",
       "      <td>0.063524</td>\n",
       "      <td>0.055380</td>\n",
       "      <td>0.060809</td>\n",
       "      <td>1031788800</td>\n",
       "      <td>0.0</td>\n",
       "      <td>0.0</td>\n",
       "    </tr>\n",
       "    <tr>\n",
       "      <th>1986-03-14 00:00:00-05:00</th>\n",
       "      <td>0.060809</td>\n",
       "      <td>0.064067</td>\n",
       "      <td>0.060809</td>\n",
       "      <td>0.062980</td>\n",
       "      <td>308160000</td>\n",
       "      <td>0.0</td>\n",
       "      <td>0.0</td>\n",
       "    </tr>\n",
       "    <tr>\n",
       "      <th>1986-03-17 00:00:00-05:00</th>\n",
       "      <td>0.062980</td>\n",
       "      <td>0.064609</td>\n",
       "      <td>0.062980</td>\n",
       "      <td>0.064067</td>\n",
       "      <td>133171200</td>\n",
       "      <td>0.0</td>\n",
       "      <td>0.0</td>\n",
       "    </tr>\n",
       "    <tr>\n",
       "      <th>1986-03-18 00:00:00-05:00</th>\n",
       "      <td>0.064067</td>\n",
       "      <td>0.064610</td>\n",
       "      <td>0.061894</td>\n",
       "      <td>0.062437</td>\n",
       "      <td>67766400</td>\n",
       "      <td>0.0</td>\n",
       "      <td>0.0</td>\n",
       "    </tr>\n",
       "    <tr>\n",
       "      <th>1986-03-19 00:00:00-05:00</th>\n",
       "      <td>0.062437</td>\n",
       "      <td>0.062980</td>\n",
       "      <td>0.060809</td>\n",
       "      <td>0.061351</td>\n",
       "      <td>47894400</td>\n",
       "      <td>0.0</td>\n",
       "      <td>0.0</td>\n",
       "    </tr>\n",
       "  </tbody>\n",
       "</table>\n",
       "</div>"
      ],
      "text/plain": [
       "                               Open      High       Low     Close      Volume  \\\n",
       "Date                                                                            \n",
       "1986-03-13 00:00:00-05:00  0.055380  0.063524  0.055380  0.060809  1031788800   \n",
       "1986-03-14 00:00:00-05:00  0.060809  0.064067  0.060809  0.062980   308160000   \n",
       "1986-03-17 00:00:00-05:00  0.062980  0.064609  0.062980  0.064067   133171200   \n",
       "1986-03-18 00:00:00-05:00  0.064067  0.064610  0.061894  0.062437    67766400   \n",
       "1986-03-19 00:00:00-05:00  0.062437  0.062980  0.060809  0.061351    47894400   \n",
       "\n",
       "                           Dividends  Stock Splits  \n",
       "Date                                                \n",
       "1986-03-13 00:00:00-05:00        0.0           0.0  \n",
       "1986-03-14 00:00:00-05:00        0.0           0.0  \n",
       "1986-03-17 00:00:00-05:00        0.0           0.0  \n",
       "1986-03-18 00:00:00-05:00        0.0           0.0  \n",
       "1986-03-19 00:00:00-05:00        0.0           0.0  "
      ]
     },
     "execution_count": 13,
     "metadata": {},
     "output_type": "execute_result"
    }
   ],
   "source": [
    "# Check the DataFrame returned by yfinance using 'head' method from 'pandas'\n",
    "msft_hist.head(5)"
   ]
  },
  {
   "cell_type": "code",
   "execution_count": 14,
   "id": "6716df80-9898-45a0-b108-b0cbbcb22f19",
   "metadata": {},
   "outputs": [
    {
     "data": {
      "text/plain": [
       "<AxesSubplot: xlabel='Date'>"
      ]
     },
     "execution_count": 14,
     "metadata": {},
     "output_type": "execute_result"
    },
    {
     "data": {
      "image/png": "[encoded data removed]",
      "text/plain": [
       "<Figure size 640x480 with 1 Axes>"
      ]
     },
     "metadata": {},
     "output_type": "display_data"
    }
   ],
   "source": [
    "# Plot close price in y-axis vs. date (index) in x-axis\n",
    "msft_hist.plot.line(y=\"Close\", use_index=True)"
   ]
  },
  {
   "cell_type": "markdown",
   "id": "f5151f8d-caae-4d30-96af-589a89c6b5dd",
   "metadata": {},
   "source": [
    "## Prepare data for ML"
   ]
  },
  {
   "cell_type": "code",
   "execution_count": 15,
   "id": "47a607b0-491f-464d-93d0-ec0e2c57cca9",
   "metadata": {},
   "outputs": [],
   "source": [
    "# We will work with the closing price of the stock for predictions\n",
    "data = msft_hist[[\"Close\"]]\n",
    "data = data.rename(columns = {\"Close\": \"Actual_Close\"})"
   ]
  },
  {
   "cell_type": "markdown",
   "id": "8bbec3f8-96d7-41bf-8709-20cadfd40776",
   "metadata": {},
   "source": [
    "Now we will use the __rolling__ method from *__pandas__* to compare the closing price between two consecutive days: if the closing price on day *i* is higher than the closing price in day *i-1*, then we will get 1 (from the *__lambda__* function), otherwise, we get zero. We will store these values on a new column in the __data__ DataFrame."
   ]
  },
  {
   "cell_type": "code",
   "execution_count": 16,
   "id": "2985c4f6-67c4-49d4-83de-dc059c14cf5d",
   "metadata": {},
   "outputs": [
    {
     "data": {
      "text/html": [
       "<div>\n",
       "<style scoped>\n",
       "    .dataframe tbody tr th:only-of-type {\n",
       "        vertical-align: middle;\n",
       "    }\n",
       "\n",
       "    .dataframe tbody tr th {\n",
       "        vertical-align: top;\n",
       "    }\n",
       "\n",
       "    .dataframe thead th {\n",
       "        text-align: right;\n",
       "    }\n",
       "</style>\n",
       "<table border=\"1\" class=\"dataframe\">\n",
       "  <thead>\n",
       "    <tr style=\"text-align: right;\">\n",
       "      <th></th>\n",
       "      <th>Actual_Close</th>\n",
       "      <th>Target</th>\n",
       "    </tr>\n",
       "    <tr>\n",
       "      <th>Date</th>\n",
       "      <th></th>\n",
       "      <th></th>\n",
       "    </tr>\n",
       "  </thead>\n",
       "  <tbody>\n",
       "    <tr>\n",
       "      <th>1986-03-13 00:00:00-05:00</th>\n",
       "      <td>0.060809</td>\n",
       "      <td>NaN</td>\n",
       "    </tr>\n",
       "    <tr>\n",
       "      <th>1986-03-14 00:00:00-05:00</th>\n",
       "      <td>0.062980</td>\n",
       "      <td>1.0</td>\n",
       "    </tr>\n",
       "    <tr>\n",
       "      <th>1986-03-17 00:00:00-05:00</th>\n",
       "      <td>0.064067</td>\n",
       "      <td>1.0</td>\n",
       "    </tr>\n",
       "    <tr>\n",
       "      <th>1986-03-18 00:00:00-05:00</th>\n",
       "      <td>0.062437</td>\n",
       "      <td>0.0</td>\n",
       "    </tr>\n",
       "    <tr>\n",
       "      <th>1986-03-19 00:00:00-05:00</th>\n",
       "      <td>0.061351</td>\n",
       "      <td>0.0</td>\n",
       "    </tr>\n",
       "  </tbody>\n",
       "</table>\n",
       "</div>"
      ],
      "text/plain": [
       "                           Actual_Close  Target\n",
       "Date                                           \n",
       "1986-03-13 00:00:00-05:00      0.060809     NaN\n",
       "1986-03-14 00:00:00-05:00      0.062980     1.0\n",
       "1986-03-17 00:00:00-05:00      0.064067     1.0\n",
       "1986-03-18 00:00:00-05:00      0.062437     0.0\n",
       "1986-03-19 00:00:00-05:00      0.061351     0.0"
      ]
     },
     "execution_count": 16,
     "metadata": {},
     "output_type": "execute_result"
    }
   ],
   "source": [
    "# Check whether stock price closed higher or lower than previous day\n",
    "data[\"Target\"] = msft_hist.rolling(2).apply(lambda x: x.iloc[1] > x.iloc[0])[\"Close\"]\n",
    "\n",
    "# Print DataFrame to check.\n",
    "# Target = 1, means price close higher than previous day\n",
    "# Target = 0, means price close lower than previous day\n",
    "data.head(5)"
   ]
  },
  {
   "cell_type": "markdown",
   "id": "2375f920-298c-4bc4-9494-7e28b6fc5897",
   "metadata": {},
   "source": [
    "Now let's shift the historical data one day forward (you will se below why), i.e., the data from 3/13 will be put on 3/14, the data from 3/14 will be put on 3/15, and so on..."
   ]
  },
  {
   "cell_type": "code",
   "execution_count": 17,
   "id": "c490700c-de29-4978-a8f8-907df2fe8d5b",
   "metadata": {},
   "outputs": [
    {
     "data": {
      "text/html": [
       "<div>\n",
       "<style scoped>\n",
       "    .dataframe tbody tr th:only-of-type {\n",
       "        vertical-align: middle;\n",
       "    }\n",
       "\n",
       "    .dataframe tbody tr th {\n",
       "        vertical-align: top;\n",
       "    }\n",
       "\n",
       "    .dataframe thead th {\n",
       "        text-align: right;\n",
       "    }\n",
       "</style>\n",
       "<table border=\"1\" class=\"dataframe\">\n",
       "  <thead>\n",
       "    <tr style=\"text-align: right;\">\n",
       "      <th></th>\n",
       "      <th>Open</th>\n",
       "      <th>High</th>\n",
       "      <th>Low</th>\n",
       "      <th>Close</th>\n",
       "      <th>Volume</th>\n",
       "      <th>Dividends</th>\n",
       "      <th>Stock Splits</th>\n",
       "    </tr>\n",
       "    <tr>\n",
       "      <th>Date</th>\n",
       "      <th></th>\n",
       "      <th></th>\n",
       "      <th></th>\n",
       "      <th></th>\n",
       "      <th></th>\n",
       "      <th></th>\n",
       "      <th></th>\n",
       "    </tr>\n",
       "  </thead>\n",
       "  <tbody>\n",
       "    <tr>\n",
       "      <th>1986-03-13 00:00:00-05:00</th>\n",
       "      <td>NaN</td>\n",
       "      <td>NaN</td>\n",
       "      <td>NaN</td>\n",
       "      <td>NaN</td>\n",
       "      <td>NaN</td>\n",
       "      <td>NaN</td>\n",
       "      <td>NaN</td>\n",
       "    </tr>\n",
       "    <tr>\n",
       "      <th>1986-03-14 00:00:00-05:00</th>\n",
       "      <td>0.055380</td>\n",
       "      <td>0.063524</td>\n",
       "      <td>0.055380</td>\n",
       "      <td>0.060809</td>\n",
       "      <td>1.031789e+09</td>\n",
       "      <td>0.0</td>\n",
       "      <td>0.0</td>\n",
       "    </tr>\n",
       "    <tr>\n",
       "      <th>1986-03-17 00:00:00-05:00</th>\n",
       "      <td>0.060809</td>\n",
       "      <td>0.064067</td>\n",
       "      <td>0.060809</td>\n",
       "      <td>0.062980</td>\n",
       "      <td>3.081600e+08</td>\n",
       "      <td>0.0</td>\n",
       "      <td>0.0</td>\n",
       "    </tr>\n",
       "    <tr>\n",
       "      <th>1986-03-18 00:00:00-05:00</th>\n",
       "      <td>0.062980</td>\n",
       "      <td>0.064609</td>\n",
       "      <td>0.062980</td>\n",
       "      <td>0.064067</td>\n",
       "      <td>1.331712e+08</td>\n",
       "      <td>0.0</td>\n",
       "      <td>0.0</td>\n",
       "    </tr>\n",
       "    <tr>\n",
       "      <th>1986-03-19 00:00:00-05:00</th>\n",
       "      <td>0.064067</td>\n",
       "      <td>0.064610</td>\n",
       "      <td>0.061894</td>\n",
       "      <td>0.062437</td>\n",
       "      <td>6.776640e+07</td>\n",
       "      <td>0.0</td>\n",
       "      <td>0.0</td>\n",
       "    </tr>\n",
       "  </tbody>\n",
       "</table>\n",
       "</div>"
      ],
      "text/plain": [
       "                               Open      High       Low     Close  \\\n",
       "Date                                                                \n",
       "1986-03-13 00:00:00-05:00       NaN       NaN       NaN       NaN   \n",
       "1986-03-14 00:00:00-05:00  0.055380  0.063524  0.055380  0.060809   \n",
       "1986-03-17 00:00:00-05:00  0.060809  0.064067  0.060809  0.062980   \n",
       "1986-03-18 00:00:00-05:00  0.062980  0.064609  0.062980  0.064067   \n",
       "1986-03-19 00:00:00-05:00  0.064067  0.064610  0.061894  0.062437   \n",
       "\n",
       "                                 Volume  Dividends  Stock Splits  \n",
       "Date                                                              \n",
       "1986-03-13 00:00:00-05:00           NaN        NaN           NaN  \n",
       "1986-03-14 00:00:00-05:00  1.031789e+09        0.0           0.0  \n",
       "1986-03-17 00:00:00-05:00  3.081600e+08        0.0           0.0  \n",
       "1986-03-18 00:00:00-05:00  1.331712e+08        0.0           0.0  \n",
       "1986-03-19 00:00:00-05:00  6.776640e+07        0.0           0.0  "
      ]
     },
     "execution_count": 17,
     "metadata": {},
     "output_type": "execute_result"
    }
   ],
   "source": [
    "# Shift data 1 day forward\n",
    "msft_prev = msft_hist.copy()\n",
    "msft_prev = msft_prev.shift(1)\n",
    "msft_prev.head(5)"
   ]
  },
  {
   "cell_type": "markdown",
   "id": "397cd432-a0fe-464f-b07c-828fe35c38d5",
   "metadata": {},
   "source": [
    "Notice that the first row (3/13) is automatically filled with NaN's, so we need to omit this row later!\n",
    "\n",
    "Now it is time to define our *__predictors__*, i.e., the variables that we will use to make predictions about the closing price on the next day. In this case, we will use the following variables from the previous day:\n",
    "- Close price\n",
    "- High price\n",
    "- Low price\n",
    "- Open price\n",
    "- Volume"
   ]
  },
  {
   "cell_type": "code",
   "execution_count": 18,
   "id": "99f45463-fe38-4aa7-bb2e-50bf8e00871f",
   "metadata": {},
   "outputs": [],
   "source": [
    "# Define predictors (variables to be used to make predictions)\n",
    "predictors = [\"Close\", \"High\", \"Low\", \"Open\", \"Volume\"]"
   ]
  },
  {
   "cell_type": "markdown",
   "id": "c34758d5-a145-4379-9e50-1b9ecffe2a09",
   "metadata": {},
   "source": [
    "Now let's join our __data__ DataFrame with the predictors in the shifted data DataFrame (i.e., __msft_prev__). Remember to omit the first row (with NaNs)."
   ]
  },
  {
   "cell_type": "code",
   "execution_count": 19,
   "id": "f3ba60a5-547f-41b5-9477-50bb7ebb98cc",
   "metadata": {},
   "outputs": [
    {
     "data": {
      "text/html": [
       "<div>\n",
       "<style scoped>\n",
       "    .dataframe tbody tr th:only-of-type {\n",
       "        vertical-align: middle;\n",
       "    }\n",
       "\n",
       "    .dataframe tbody tr th {\n",
       "        vertical-align: top;\n",
       "    }\n",
       "\n",
       "    .dataframe thead th {\n",
       "        text-align: right;\n",
       "    }\n",
       "</style>\n",
       "<table border=\"1\" class=\"dataframe\">\n",
       "  <thead>\n",
       "    <tr style=\"text-align: right;\">\n",
       "      <th></th>\n",
       "      <th>Actual_Close</th>\n",
       "      <th>Target</th>\n",
       "      <th>Close</th>\n",
       "      <th>High</th>\n",
       "      <th>Low</th>\n",
       "      <th>Open</th>\n",
       "      <th>Volume</th>\n",
       "    </tr>\n",
       "    <tr>\n",
       "      <th>Date</th>\n",
       "      <th></th>\n",
       "      <th></th>\n",
       "      <th></th>\n",
       "      <th></th>\n",
       "      <th></th>\n",
       "      <th></th>\n",
       "      <th></th>\n",
       "    </tr>\n",
       "  </thead>\n",
       "  <tbody>\n",
       "    <tr>\n",
       "      <th>1986-03-14 00:00:00-05:00</th>\n",
       "      <td>0.062980</td>\n",
       "      <td>1.0</td>\n",
       "      <td>0.060809</td>\n",
       "      <td>0.063524</td>\n",
       "      <td>0.055380</td>\n",
       "      <td>0.055380</td>\n",
       "      <td>1.031789e+09</td>\n",
       "    </tr>\n",
       "    <tr>\n",
       "      <th>1986-03-17 00:00:00-05:00</th>\n",
       "      <td>0.064067</td>\n",
       "      <td>1.0</td>\n",
       "      <td>0.062980</td>\n",
       "      <td>0.064067</td>\n",
       "      <td>0.060809</td>\n",
       "      <td>0.060809</td>\n",
       "      <td>3.081600e+08</td>\n",
       "    </tr>\n",
       "    <tr>\n",
       "      <th>1986-03-18 00:00:00-05:00</th>\n",
       "      <td>0.062437</td>\n",
       "      <td>0.0</td>\n",
       "      <td>0.064067</td>\n",
       "      <td>0.064609</td>\n",
       "      <td>0.062980</td>\n",
       "      <td>0.062980</td>\n",
       "      <td>1.331712e+08</td>\n",
       "    </tr>\n",
       "    <tr>\n",
       "      <th>1986-03-19 00:00:00-05:00</th>\n",
       "      <td>0.061351</td>\n",
       "      <td>0.0</td>\n",
       "      <td>0.062437</td>\n",
       "      <td>0.064610</td>\n",
       "      <td>0.061894</td>\n",
       "      <td>0.064067</td>\n",
       "      <td>6.776640e+07</td>\n",
       "    </tr>\n",
       "    <tr>\n",
       "      <th>1986-03-20 00:00:00-05:00</th>\n",
       "      <td>0.059723</td>\n",
       "      <td>0.0</td>\n",
       "      <td>0.061351</td>\n",
       "      <td>0.062980</td>\n",
       "      <td>0.060809</td>\n",
       "      <td>0.062437</td>\n",
       "      <td>4.789440e+07</td>\n",
       "    </tr>\n",
       "  </tbody>\n",
       "</table>\n",
       "</div>"
      ],
      "text/plain": [
       "                           Actual_Close  Target     Close      High       Low  \\\n",
       "Date                                                                            \n",
       "1986-03-14 00:00:00-05:00      0.062980     1.0  0.060809  0.063524  0.055380   \n",
       "1986-03-17 00:00:00-05:00      0.064067     1.0  0.062980  0.064067  0.060809   \n",
       "1986-03-18 00:00:00-05:00      0.062437     0.0  0.064067  0.064609  0.062980   \n",
       "1986-03-19 00:00:00-05:00      0.061351     0.0  0.062437  0.064610  0.061894   \n",
       "1986-03-20 00:00:00-05:00      0.059723     0.0  0.061351  0.062980  0.060809   \n",
       "\n",
       "                               Open        Volume  \n",
       "Date                                               \n",
       "1986-03-14 00:00:00-05:00  0.055380  1.031789e+09  \n",
       "1986-03-17 00:00:00-05:00  0.060809  3.081600e+08  \n",
       "1986-03-18 00:00:00-05:00  0.062980  1.331712e+08  \n",
       "1986-03-19 00:00:00-05:00  0.064067  6.776640e+07  \n",
       "1986-03-20 00:00:00-05:00  0.062437  4.789440e+07  "
      ]
     },
     "execution_count": 19,
     "metadata": {},
     "output_type": "execute_result"
    }
   ],
   "source": [
    "# Join predictors in shifted data with the DataFrame that includes our target\n",
    "# Do not include the first row in the shifted data, since it is NaN\n",
    "data = data.join(msft_prev[predictors]).iloc[1:]\n",
    "data.head(5)"
   ]
  },
  {
   "cell_type": "markdown",
   "id": "df7781cc-5772-4db4-9e12-9943667a3020",
   "metadata": {},
   "source": [
    "Notice the structure of this new DataFrame: We have the __Actual_close__ on 3/14, and the __Target__ is 1, which means that 3/14 closed higher than 3/13.\n",
    "\n",
    "The rest of the columns contain information from 3/13. And here's why we shifted the data a couple of lines before: In a real-world scenario, we will use the information from 3/13 (i.e., known information) to predict the closing price on 3/14, which is *unknown*. With this structure we make sure that we are not using data from the future to make predictions (i.e., avoid *leaking*)"
   ]
  },
  {
   "cell_type": "markdown",
   "id": "c2797eb9-619f-4167-98a1-b330877053b3",
   "metadata": {},
   "source": [
    "## Training a ML model"
   ]
  },
  {
   "cell_type": "markdown",
   "id": "e1892377-f346-48ff-b13d-73aeab9ae28d",
   "metadata": {},
   "source": [
    "For this case we will use a *__classifier__* instead of *__regression__* since our output (i.e., __Target__) is a binary variable: either 1 or 0. We will use a *__Random Forest__* classifier which tends to be fairly robust to overfitting (if we set the right parameters), and it is able to handle nonlinear relations between the data"
   ]
  },
  {
   "cell_type": "code",
   "execution_count": 21,
   "id": "da851a00-a6f0-49f3-970d-46083a3507a8",
   "metadata": {},
   "outputs": [],
   "source": [
    "from sklearn.ensemble import RandomForestClassifier"
   ]
  },
  {
   "cell_type": "markdown",
   "id": "19470298-71f2-4b33-99a2-3fe8c75d2e81",
   "metadata": {},
   "source": [
    "Let's initialize the model with the following parameters:\n",
    "- n_estimators = 100 -> Number of individual decision trees to run. Result will be the average of all the results\n",
    "- min_samples_split = 200 -> Try to avoid overfitting\n",
    "- random_state = 1 -> allow me to replicate results (like seed for rng)"
   ]
  },
  {
   "cell_type": "code",
   "execution_count": 22,
   "id": "625479ee-228d-4bac-86d8-e1cdbbcc41aa",
   "metadata": {},
   "outputs": [],
   "source": [
    "# Initialize model\n",
    "model = RandomForestClassifier(n_estimators=100, min_samples_split=200, random_state=1)"
   ]
  },
  {
   "cell_type": "markdown",
   "id": "08fb81b3-60ab-4e29-a3fa-4ace31fc58e7",
   "metadata": {},
   "source": [
    "It is recommended to do *__backtesting__* in order to check the validity of a model. But first we will train this model to check how it works. *__BE AWARE__* The following steps are done only to check how it works, but this is not the recommended way to proceed!!!"
   ]
  },
  {
   "cell_type": "code",
   "execution_count": 23,
   "id": "04ca3a84-0299-41dc-9cb1-e79403536d06",
   "metadata": {},
   "outputs": [
    {
     "data": {
      "text/html": [
       "<style>#sk-container-id-1 {color: black;background-color: white;}#sk-container-id-1 pre{padding: 0;}#sk-container-id-1 div.sk-toggleable {background-color: white;}#sk-container-id-1 label.sk-toggleable__label {cursor: pointer;display: block;width: 100%;margin-bottom: 0;padding: 0.3em;box-sizing: border-box;text-align: center;}#sk-container-id-1 label.sk-toggleable__label-arrow:before {content: \"▸\";float: left;margin-right: 0.25em;color: #696969;}#sk-container-id-1 label.sk-toggleable__label-arrow:hover:before {color: black;}#sk-container-id-1 div.sk-estimator:hover label.sk-toggleable__label-arrow:before {color: black;}#sk-container-id-1 div.sk-toggleable__content {max-height: 0;max-width: 0;overflow: hidden;text-align: left;background-color: #f0f8ff;}#sk-container-id-1 div.sk-toggleable__content pre {margin: 0.2em;color: black;border-radius: 0.25em;background-color: #f0f8ff;}#sk-container-id-1 input.sk-toggleable__control:checked~div.sk-toggleable__content {max-height: 200px;max-width: 100%;overflow: auto;}#sk-container-id-1 input.sk-toggleable__control:checked~label.sk-toggleable__label-arrow:before {content: \"▾\";}#sk-container-id-1 div.sk-estimator input.sk-toggleable__control:checked~label.sk-toggleable__label {background-color: #d4ebff;}#sk-container-id-1 div.sk-label input.sk-toggleable__control:checked~label.sk-toggleable__label {background-color: #d4ebff;}#sk-container-id-1 input.sk-hidden--visually {border: 0;clip: rect(1px 1px 1px 1px);clip: rect(1px, 1px, 1px, 1px);height: 1px;margin: -1px;overflow: hidden;padding: 0;position: absolute;width: 1px;}#sk-container-id-1 div.sk-estimator {font-family: monospace;background-color: #f0f8ff;border: 1px dotted black;border-radius: 0.25em;box-sizing: border-box;margin-bottom: 0.5em;}#sk-container-id-1 div.sk-estimator:hover {background-color: #d4ebff;}#sk-container-id-1 div.sk-parallel-item::after {content: \"\";width: 100%;border-bottom: 1px solid gray;flex-grow: 1;}#sk-container-id-1 div.sk-label:hover label.sk-toggleable__label {background-color: #d4ebff;}#sk-container-id-1 div.sk-serial::before {content: \"\";position: absolute;border-left: 1px solid gray;box-sizing: border-box;top: 0;bottom: 0;left: 50%;z-index: 0;}#sk-container-id-1 div.sk-serial {display: flex;flex-direction: column;align-items: center;background-color: white;padding-right: 0.2em;padding-left: 0.2em;position: relative;}#sk-container-id-1 div.sk-item {position: relative;z-index: 1;}#sk-container-id-1 div.sk-parallel {display: flex;align-items: stretch;justify-content: center;background-color: white;position: relative;}#sk-container-id-1 div.sk-item::before, #sk-container-id-1 div.sk-parallel-item::before {content: \"\";position: absolute;border-left: 1px solid gray;box-sizing: border-box;top: 0;bottom: 0;left: 50%;z-index: -1;}#sk-container-id-1 div.sk-parallel-item {display: flex;flex-direction: column;z-index: 1;position: relative;background-color: white;}#sk-container-id-1 div.sk-parallel-item:first-child::after {align-self: flex-end;width: 50%;}#sk-container-id-1 div.sk-parallel-item:last-child::after {align-self: flex-start;width: 50%;}#sk-container-id-1 div.sk-parallel-item:only-child::after {width: 0;}#sk-container-id-1 div.sk-dashed-wrapped {border: 1px dashed gray;margin: 0 0.4em 0.5em 0.4em;box-sizing: border-box;padding-bottom: 0.4em;background-color: white;}#sk-container-id-1 div.sk-label label {font-family: monospace;font-weight: bold;display: inline-block;line-height: 1.2em;}#sk-container-id-1 div.sk-label-container {text-align: center;}#sk-container-id-1 div.sk-container {/* jupyter's `normalize.less` sets `[hidden] { display: none; }` but bootstrap.min.css set `[hidden] { display: none !important; }` so we also need the `!important` here to be able to override the default hidden behavior on the sphinx rendered scikit-learn.org. See: https://github.com/scikit-learn/scikit-learn/issues/21755 */display: inline-block !important;position: relative;}#sk-container-id-1 div.sk-text-repr-fallback {display: none;}</style><div id=\"sk-container-id-1\" class=\"sk-top-container\"><div class=\"sk-text-repr-fallback\"><pre>RandomForestClassifier(min_samples_split=200, random_state=1)</pre><b>In a Jupyter environment, please rerun this cell to show the HTML representation or trust the notebook. <br />On GitHub, the HTML representation is unable to render, please try loading this page with nbviewer.org.</b></div><div class=\"sk-container\" hidden><div class=\"sk-item\"><div class=\"sk-estimator sk-toggleable\"><input class=\"sk-toggleable__control sk-hidden--visually\" id=\"sk-estimator-id-1\" type=\"checkbox\" checked><label for=\"sk-estimator-id-1\" class=\"sk-toggleable__label sk-toggleable__label-arrow\">RandomForestClassifier</label><div class=\"sk-toggleable__content\"><pre>RandomForestClassifier(min_samples_split=200, random_state=1)</pre></div></div></div></div></div>"
      ],
      "text/plain": [
       "RandomForestClassifier(min_samples_split=200, random_state=1)"
      ]
     },
     "execution_count": 23,
     "metadata": {},
     "output_type": "execute_result"
    }
   ],
   "source": [
    "# Divide data into 'training set' and 'testing set' \n",
    "train = data.iloc[:-100]\n",
    "test = data.iloc[-100:]\n",
    "\n",
    "# Fit the model to 'training set'. Use 'predictors' to predict 'Target'\n",
    "model.fit(train[predictors], train[\"Target\"])"
   ]
  },
  {
   "cell_type": "code",
   "execution_count": 27,
   "id": "3ea17072-740a-4df8-ad72-a0a9244b0103",
   "metadata": {},
   "outputs": [
    {
     "data": {
      "text/plain": [
       "Date\n",
       "2022-08-02 00:00:00-04:00    0.0\n",
       "2022-08-03 00:00:00-04:00    1.0\n",
       "2022-08-04 00:00:00-04:00    1.0\n",
       "2022-08-05 00:00:00-04:00    0.0\n",
       "2022-08-08 00:00:00-04:00    0.0\n",
       "                            ... \n",
       "2022-12-15 00:00:00-05:00    1.0\n",
       "2022-12-16 00:00:00-05:00    1.0\n",
       "2022-12-19 00:00:00-05:00    1.0\n",
       "2022-12-20 00:00:00-05:00    1.0\n",
       "2022-12-21 00:00:00-05:00    0.0\n",
       "Length: 100, dtype: float64"
      ]
     },
     "execution_count": 27,
     "metadata": {},
     "output_type": "execute_result"
    }
   ],
   "source": [
    "import pandas as pd\n",
    "from sklearn.metrics import precision_score\n",
    "\n",
    "# Time to make predictions\n",
    "preds = model.predict(test[predictors])\n",
    "\n",
    "# model.predict will return a Numpy array with the predictions. Let's convert it to\n",
    "# pandas series\n",
    "preds = pd.Series(preds, index=test.index)\n",
    "preds"
   ]
  },
  {
   "cell_type": "code",
   "execution_count": 28,
   "id": "4352bb7e-3426-40bd-8fa6-8edc4833f650",
   "metadata": {},
   "outputs": [
    {
     "data": {
      "text/plain": [
       "0.5"
      ]
     },
     "execution_count": 28,
     "metadata": {},
     "output_type": "execute_result"
    }
   ],
   "source": [
    "# Calculate 'precision_score'\n",
    "precision_score(test[\"Target\"], preds)"
   ]
  },
  {
   "cell_type": "code",
   "execution_count": 29,
   "id": "bd9d41a5-3cef-43d0-9d27-15c58c5fe6b0",
   "metadata": {},
   "outputs": [
    {
     "data": {
      "text/html": [
       "<div>\n",
       "<style scoped>\n",
       "    .dataframe tbody tr th:only-of-type {\n",
       "        vertical-align: middle;\n",
       "    }\n",
       "\n",
       "    .dataframe tbody tr th {\n",
       "        vertical-align: top;\n",
       "    }\n",
       "\n",
       "    .dataframe thead th {\n",
       "        text-align: right;\n",
       "    }\n",
       "</style>\n",
       "<table border=\"1\" class=\"dataframe\">\n",
       "  <thead>\n",
       "    <tr style=\"text-align: right;\">\n",
       "      <th></th>\n",
       "      <th>Target</th>\n",
       "      <th>Predictions</th>\n",
       "    </tr>\n",
       "    <tr>\n",
       "      <th>Date</th>\n",
       "      <th></th>\n",
       "      <th></th>\n",
       "    </tr>\n",
       "  </thead>\n",
       "  <tbody>\n",
       "    <tr>\n",
       "      <th>2022-08-02 00:00:00-04:00</th>\n",
       "      <td>0.0</td>\n",
       "      <td>0.0</td>\n",
       "    </tr>\n",
       "    <tr>\n",
       "      <th>2022-08-03 00:00:00-04:00</th>\n",
       "      <td>1.0</td>\n",
       "      <td>1.0</td>\n",
       "    </tr>\n",
       "    <tr>\n",
       "      <th>2022-08-04 00:00:00-04:00</th>\n",
       "      <td>1.0</td>\n",
       "      <td>1.0</td>\n",
       "    </tr>\n",
       "    <tr>\n",
       "      <th>2022-08-05 00:00:00-04:00</th>\n",
       "      <td>0.0</td>\n",
       "      <td>0.0</td>\n",
       "    </tr>\n",
       "    <tr>\n",
       "      <th>2022-08-08 00:00:00-04:00</th>\n",
       "      <td>0.0</td>\n",
       "      <td>0.0</td>\n",
       "    </tr>\n",
       "    <tr>\n",
       "      <th>...</th>\n",
       "      <td>...</td>\n",
       "      <td>...</td>\n",
       "    </tr>\n",
       "    <tr>\n",
       "      <th>2022-12-15 00:00:00-05:00</th>\n",
       "      <td>0.0</td>\n",
       "      <td>1.0</td>\n",
       "    </tr>\n",
       "    <tr>\n",
       "      <th>2022-12-16 00:00:00-05:00</th>\n",
       "      <td>0.0</td>\n",
       "      <td>1.0</td>\n",
       "    </tr>\n",
       "    <tr>\n",
       "      <th>2022-12-19 00:00:00-05:00</th>\n",
       "      <td>0.0</td>\n",
       "      <td>1.0</td>\n",
       "    </tr>\n",
       "    <tr>\n",
       "      <th>2022-12-20 00:00:00-05:00</th>\n",
       "      <td>1.0</td>\n",
       "      <td>1.0</td>\n",
       "    </tr>\n",
       "    <tr>\n",
       "      <th>2022-12-21 00:00:00-05:00</th>\n",
       "      <td>1.0</td>\n",
       "      <td>0.0</td>\n",
       "    </tr>\n",
       "  </tbody>\n",
       "</table>\n",
       "<p>100 rows × 2 columns</p>\n",
       "</div>"
      ],
      "text/plain": [
       "                           Target  Predictions\n",
       "Date                                          \n",
       "2022-08-02 00:00:00-04:00     0.0          0.0\n",
       "2022-08-03 00:00:00-04:00     1.0          1.0\n",
       "2022-08-04 00:00:00-04:00     1.0          1.0\n",
       "2022-08-05 00:00:00-04:00     0.0          0.0\n",
       "2022-08-08 00:00:00-04:00     0.0          0.0\n",
       "...                           ...          ...\n",
       "2022-12-15 00:00:00-05:00     0.0          1.0\n",
       "2022-12-16 00:00:00-05:00     0.0          1.0\n",
       "2022-12-19 00:00:00-05:00     0.0          1.0\n",
       "2022-12-20 00:00:00-05:00     1.0          1.0\n",
       "2022-12-21 00:00:00-05:00     1.0          0.0\n",
       "\n",
       "[100 rows x 2 columns]"
      ]
     },
     "execution_count": 29,
     "metadata": {},
     "output_type": "execute_result"
    }
   ],
   "source": [
    "# Concatenate data sets\n",
    "combined = pd.concat({\"Target\": test[\"Target\"], \"Predictions\": preds}, axis=1)\n",
    "combined"
   ]
  },
  {
   "cell_type": "code",
   "execution_count": 30,
   "id": "23ef1ad8-aaf8-4594-a21b-11b4f74ed919",
   "metadata": {},
   "outputs": [
    {
     "data": {
      "text/plain": [
       "<AxesSubplot: xlabel='Date'>"
      ]
     },
     "execution_count": 30,
     "metadata": {},
     "output_type": "execute_result"
    },
    {
     "data": {
      "image/png": "[encoded data removed]",
      "text/plain": [
       "<Figure size 640x480 with 1 Axes>"
      ]
     },
     "metadata": {},
     "output_type": "display_data"
    }
   ],
   "source": [
    "# Let's plot results\n",
    "combined.plot()"
   ]
  },
  {
   "cell_type": "markdown",
   "id": "99b6f8d0-efd3-49b1-bf11-7691f3b96d37",
   "metadata": {},
   "source": [
    "## Creating a backtesting engine"
   ]
  },
  {
   "cell_type": "code",
   "execution_count": 36,
   "id": "358ddf36-d6a5-40b0-981d-c9d617c70bb2",
   "metadata": {},
   "outputs": [],
   "source": [
    "# Let's use the first 1000 rows of data to start backtesting\n",
    "# Train model every 750 rows\n",
    "start = 1000\n",
    "step = 750   # Step higher so it runs fast. In real-world, use smaller (for instance = 100)\n",
    "\n",
    "# Initialize list for predictions\n",
    "predictions = []\n",
    "\n",
    "for i in range(start, data.shape[0], step):\n",
    "    # Create training and test sets\n",
    "    train = data.iloc[0:i].copy()\n",
    "    test = data.iloc[i:(i+step)].copy()\n",
    "\n",
    "    # Fit model to training set\n",
    "    model.fit(train[predictors], train[\"Target\"])\n",
    "\n",
    "    # Compute probability of predictions: Let's define a higher threshold = 0.6,\n",
    "    # so we maximize true positives. Therefore, if:\n",
    "    # - probability <= 0.6 means 'Target' is zero\n",
    "    # - probability > 0.6 means 'Target' is 1\n",
    "    preds = model.predict_proba(test[predictors])[:,1]\n",
    "    preds = pd.Series(preds, index=test.index)\n",
    "    preds[preds > 0.6] = 1\n",
    "    preds[preds <= 0.6] = 0\n",
    "\n",
    "    # Concatenate results\n",
    "    combined = pd.concat({\"Target\": test[\"Target\"], \"Predictions\": preds}, axis=1)\n",
    "\n",
    "    # Append results to final list\n",
    "    predictions.append(combined)\n",
    "\n",
    "# Concatenate predictions, so we have a nice DataFrame at the end\n",
    "predictions = pd.concat(predictions)"
   ]
  },
  {
   "cell_type": "code",
   "execution_count": 33,
   "id": "65ed2a5f-8ce3-46cc-b4a7-fbb0ccf3e5c9",
   "metadata": {},
   "outputs": [
    {
     "data": {
      "text/plain": [
       "0.0    7554\n",
       "1.0     716\n",
       "Name: Predictions, dtype: int64"
      ]
     },
     "execution_count": 33,
     "metadata": {},
     "output_type": "execute_result"
    }
   ],
   "source": [
    "# Check value counts\n",
    "predictions[\"Predictions\"].value_counts()"
   ]
  },
  {
   "cell_type": "code",
   "execution_count": 35,
   "id": "f59f5048-cf02-4a88-8468-875daa77a6e8",
   "metadata": {},
   "outputs": [
    {
     "data": {
      "text/plain": [
       "0.5069832402234636"
      ]
     },
     "execution_count": 35,
     "metadata": {},
     "output_type": "execute_result"
    }
   ],
   "source": [
    "# Check precision score\n",
    "precision_score(predictions[\"Target\"], predictions[\"Predictions\"])"
   ]
  }
 ],
 "metadata": {
  "kernelspec": {
   "display_name": "Python 3 (ipykernel)",
   "language": "python",
   "name": "python3"
  },
  "language_info": {
   "codemirror_mode": {
    "name": "ipython",
    "version": 3
   },
   "file_extension": ".py",
   "mimetype": "text/x-python",
   "name": "python",
   "nbconvert_exporter": "python",
   "pygments_lexer": "ipython3",
   "version": "3.10.8"
  }
 },
 "nbformat": 4,
 "nbformat_minor": 5
}
